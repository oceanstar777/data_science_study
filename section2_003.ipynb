{
 "cells": [
  {
   "cell_type": "code",
   "execution_count": 2,
   "metadata": {},
   "outputs": [
    {
     "name": "stdout",
     "output_type": "stream",
     "text": [
      "Hello world 1\n",
      "Hello world 2\n",
      "Hello world 3\n",
      "Hello world 4\n",
      "good job\n"
     ]
    }
   ],
   "source": [
    "#2부\n",
    "#반복문(while,for), 조건문(if,elif,else)\n",
    "a = 1\n",
    "while a < 5:\n",
    "    print('Hello world',a)\n",
    "    if a > 9:\n",
    "        break\n",
    "    a += 1\n",
    "else:   #break를 타지 않을 경우\n",
    "    print('good job')"
   ]
  },
  {
   "cell_type": "code",
   "execution_count": 5,
   "metadata": {},
   "outputs": [
    {
     "name": "stdout",
     "output_type": "stream",
     "text": [
      "10\n",
      "20\n",
      "30\n",
      "40\n",
      "40\n",
      "10\n",
      "20\n",
      "30\n",
      "one\n",
      "two\n",
      "0\n",
      "1\n",
      "2\n",
      "3\n",
      "4\n",
      "5\n",
      "6\n",
      "7\n",
      "8\n",
      "9\n"
     ]
    }
   ],
   "source": [
    "l =  [10,20,30,40]\n",
    "s = {10,20,30,40,10,10,10}\n",
    "d = {'one':1,'two':2}\n",
    "\n",
    "for i in l:\n",
    "    print(i)\n",
    "for i in s:\n",
    "    print(i)\n",
    "for i in d: #key만 순회\n",
    "    print(i)\n",
    "for i in range(10):\n",
    "    print(i)"
   ]
  },
  {
   "cell_type": "code",
   "execution_count": 7,
   "metadata": {},
   "outputs": [
    {
     "name": "stdout",
     "output_type": "stream",
     "text": [
      "<class 'range'>\n",
      "1 [0, 1, 2, 3, 4, 5, 6, 7, 8, 9]\n",
      "2 [5, 6, 7, 8, 9]\n",
      "3 [2, 4, 6, 8]\n",
      "4 [10, 9, 8, 7, 6]\n",
      "5 []\n"
     ]
    }
   ],
   "source": [
    "#range(start,stop,step)\n",
    "print(type(range(10)))\n",
    "print(1,list(range(10)))\n",
    "print(2,list(range(5,10)))\n",
    "print(3,list(range(2,10,2)))\n",
    "print(4,list(range(10,5,-1)))\n",
    "print(5,list(range(-10)))\n"
   ]
  },
  {
   "cell_type": "code",
   "execution_count": 8,
   "metadata": {},
   "outputs": [
    {
     "name": "stdout",
     "output_type": "stream",
     "text": [
      "h\n",
      "e\n",
      "l\n",
      "l\n",
      "o\n",
      " \n",
      "w\n",
      "o\n",
      "r\n",
      "l\n",
      "d\n"
     ]
    }
   ],
   "source": [
    "for i in 'hello world':\n",
    "    print(i)"
   ]
  },
  {
   "cell_type": "code",
   "execution_count": 9,
   "metadata": {},
   "outputs": [
    {
     "name": "stdout",
     "output_type": "stream",
     "text": [
      "0\n",
      "1\n",
      "2\n",
      "3\n",
      "4\n",
      "5\n"
     ]
    }
   ],
   "source": [
    "for i in range(10):\n",
    "    print(i)\n",
    "    if i == 5:\n",
    "        break\n",
    "else:   #break 타지 않을 때\n",
    "    print('good job')"
   ]
  },
  {
   "cell_type": "code",
   "execution_count": 12,
   "metadata": {},
   "outputs": [
    {
     "name": "stdout",
     "output_type": "stream",
     "text": [
      "[0, 1, 2, 3, 4, 5, 6, 7, 8, 9, 10, 11, 12, 13, 14, 15, 16, 17, 18, 19, 20, 21, 22, 23, 24, 25, 26, 27, 28, 29, 30, 31, 32, 33, 34, 35, 36, 37, 38, 39, 40, 41, 42, 43, 44, 45, 46, 47, 48, 49, 50, 51, 52, 53, 54, 55, 56, 57, 58, 59, 60, 61, 62, 63, 64, 65, 66, 67, 68, 69, 70, 71, 72, 73, 74, 75, 76, 77, 78, 79, 80, 81, 82, 83, 84, 85, 86, 87, 88, 89, 90, 91, 92, 93, 94, 95, 96, 97, 98, 99, 100]\n",
      "[0, 1, 2, 3, 4, 5, 6, 7, 8, 9]\n",
      "['2 x 1 = 2', '2 x 2 = 4', '2 x 3 = 6', '2 x 4 = 8', '2 x 5 = 10', '2 x 6 = 12', '2 x 7 = 14', '2 x 8 = 16', '2 x 9 = 18', '3 x 1 = 3', '3 x 2 = 6', '3 x 3 = 9', '3 x 4 = 12', '3 x 5 = 15', '3 x 6 = 18', '3 x 7 = 21', '3 x 8 = 24', '3 x 9 = 27', '4 x 1 = 4', '4 x 2 = 8', '4 x 3 = 12', '4 x 4 = 16', '4 x 5 = 20', '4 x 6 = 24', '4 x 7 = 28', '4 x 8 = 32', '4 x 9 = 36', '5 x 1 = 5', '5 x 2 = 10', '5 x 3 = 15', '5 x 4 = 20', '5 x 5 = 25', '5 x 6 = 30', '5 x 7 = 35', '5 x 8 = 40', '5 x 9 = 45', '6 x 1 = 6', '6 x 2 = 12', '6 x 3 = 18', '6 x 4 = 24', '6 x 5 = 30', '6 x 6 = 36', '6 x 7 = 42', '6 x 8 = 48', '6 x 9 = 54', '7 x 1 = 7', '7 x 2 = 14', '7 x 3 = 21', '7 x 4 = 28', '7 x 5 = 35', '7 x 6 = 42', '7 x 7 = 49', '7 x 8 = 56', '7 x 9 = 63', '8 x 1 = 8', '8 x 2 = 16', '8 x 3 = 24', '8 x 4 = 32', '8 x 5 = 40', '8 x 6 = 48', '8 x 7 = 56', '8 x 8 = 64', '8 x 9 = 72', '9 x 1 = 9', '9 x 2 = 18', '9 x 3 = 27', '9 x 4 = 36', '9 x 5 = 45', '9 x 6 = 54', '9 x 7 = 63', '9 x 8 = 72', '9 x 9 = 81']\n"
     ]
    }
   ],
   "source": [
    "l = list(range(101))\n",
    "print(l)\n",
    "ll = [i for i in range(10)]\n",
    "lll = ['{} x {} = {}'.format(i,j,i*j) for i in range(2,10) for j in range(1,10)]\n",
    "print(ll)\n",
    "print(lll)"
   ]
  },
  {
   "cell_type": "code",
   "execution_count": 13,
   "metadata": {},
   "outputs": [
    {
     "name": "stdout",
     "output_type": "stream",
     "text": [
      "30\n",
      "1 10\n",
      "2 20\n",
      "3 30\n",
      "4 40\n"
     ]
    }
   ],
   "source": [
    "l = [(1,10),(2,20),(3,30),(4,40)]\n",
    "print(l[2][1])\n",
    "for i, j in l:\n",
    "    print(i,j)  #언패킹\n"
   ]
  },
  {
   "cell_type": "code",
   "execution_count": 15,
   "metadata": {},
   "outputs": [
    {
     "name": "stdout",
     "output_type": "stream",
     "text": [
      "1 100\n",
      "2 200\n",
      "3 300\n",
      "4 400\n",
      "5 500\n",
      "6 600\n",
      "7 700\n",
      "8 800\n",
      "9 900\n"
     ]
    }
   ],
   "source": [
    "for i,j in enumerate(range(100,1000,100),1):\n",
    "    print(i,j)\n",
    "    #순위매기기, 번호매기기"
   ]
  },
  {
   "cell_type": "code",
   "execution_count": 16,
   "metadata": {},
   "outputs": [],
   "source": [
    "for i in range(10):\n",
    "    pass\n",
    "#pass 일단 진행, 없는걸로 취급\n",
    "for i in range(10):\n",
    "    if i > 5:\n",
    "        continue\n",
    "    print('hello world')\n",
    "#다음 순회로 넘어감\n"
   ]
  },
  {
   "cell_type": "code",
   "execution_count": 17,
   "metadata": {},
   "outputs": [
    {
     "name": "stdout",
     "output_type": "stream",
     "text": [
      "hello world\n"
     ]
    }
   ],
   "source": [
    "a = 10\n",
    "if a >= 10:\n",
    "    print('hello world')\n",
    "elif a< 20: #윗 조건이 false elif 조건이 true인 경우 실행\n",
    "    print('good job')\n",
    "else:   #조건들 만족 안 시킬때\n",
    "    print('else')"
   ]
  },
  {
   "cell_type": "code",
   "execution_count": 22,
   "metadata": {},
   "outputs": [
    {
     "name": "stdout",
     "output_type": "stream",
     "text": [
      "5\n",
      "5\n",
      "<class '__main__.Car'>\n",
      "['__class__', '__delattr__', '__dict__', '__dir__', '__doc__', '__eq__', '__format__', '__ge__', '__getattribute__', '__gt__', '__hash__', '__init__', '__init_subclass__', '__le__', '__lt__', '__module__', '__ne__', '__new__', '__reduce__', '__reduce_ex__', '__repr__', '__setattr__', '__sizeof__', '__str__', '__subclasshook__', '__weakref__', 'maxPeople', 'maxSpeed', 'start', 'stop']\n"
     ]
    }
   ],
   "source": [
    "class Car():\n",
    "    maxSpeed = 300\n",
    "    maxPeople = 5\n",
    "    def start(self):\n",
    "        print('출발')\n",
    "    def stop(self):\n",
    "        print('정지')\n",
    "\n",
    "k9 = Car()\n",
    "k5 = Car()\n",
    "k3 = Car()\n",
    "\n",
    "print(k9.maxPeople)\n",
    "print(k3.maxPeople)\n",
    "print(type(k9))\n",
    "print(dir(k9))"
   ]
  },
  {
   "cell_type": "markdown",
   "metadata": {},
   "source": [
    "## class\n",
    "1. class name 첫 문자가 대문자\n",
    "2. class는 대부분 직접 만지지 않습니다.\n",
    "3. class를 붕어빵 찍는 틀로 생각한다면, instance는 붕어빵입니다."
   ]
  },
  {
   "cell_type": "code",
   "execution_count": 23,
   "metadata": {},
   "outputs": [
    {
     "name": "stdout",
     "output_type": "stream",
     "text": [
      "인스턴스가 만들어 졌습니다!!!\n",
      "인스턴스가 만들어 졌습니다!!!\n",
      "인스턴스가 만들어 졌습니다!!!\n",
      "5\n",
      "5\n",
      "<class '__main__.Car'>\n",
      "['__class__', '__delattr__', '__dict__', '__dir__', '__doc__', '__eq__', '__format__', '__ge__', '__getattribute__', '__gt__', '__hash__', '__init__', '__init_subclass__', '__le__', '__lt__', '__module__', '__ne__', '__new__', '__reduce__', '__reduce_ex__', '__repr__', '__setattr__', '__sizeof__', '__str__', '__subclasshook__', '__weakref__', 'maxPeople', 'maxSpeed', 'start', 'stop']\n",
      "hello world\n"
     ]
    }
   ],
   "source": [
    "#상속\n",
    "class Car(object):\n",
    "    maxSpeed = 300\n",
    "    maxPeople = 5\n",
    "    def start(self):\n",
    "        print('출발')\n",
    "    def stop(self):\n",
    "        print('정지')\n",
    "    def __str__(self):      #magic method\n",
    "        return 'hello world'\n",
    "    def __init__(self):\n",
    "        print('인스턴스가 만들어 졌습니다!!!')\n",
    "\n",
    "class Hybrid(Car):\n",
    "    battery = 1000\n",
    "    batteryKM = 300\n",
    "\n",
    "k9 = Car()\n",
    "k5 = Car()\n",
    "k3 = Car()\n",
    "\n",
    "print(k9.maxPeople)\n",
    "print(k3.maxPeople)\n",
    "print(type(k9))\n",
    "print(dir(k9))\n",
    "print(k9)"
   ]
  }
 ],
 "metadata": {
  "interpreter": {
   "hash": "6b3c0d2d5f4f7f96d5c0754321f906a01bf9508d1dc7f11f2204ee44bbb7c13c"
  },
  "kernelspec": {
   "display_name": "Python 3 (ipykernel)",
   "language": "python",
   "name": "python3"
  },
  "language_info": {
   "codemirror_mode": {
    "name": "ipython",
    "version": 3
   },
   "file_extension": ".py",
   "mimetype": "text/x-python",
   "name": "python",
   "nbconvert_exporter": "python",
   "pygments_lexer": "ipython3",
   "version": "3.9.6"
  }
 },
 "nbformat": 4,
 "nbformat_minor": 4
}
