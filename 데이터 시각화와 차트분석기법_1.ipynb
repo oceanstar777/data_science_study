{
 "cells": [
  {
   "cell_type": "markdown",
   "source": [
    "# 차트를 왜 쓰는가?\r\n",
    "1. 비교와 순위 매기기\r\n",
    "2. 전체중에 얼마에 해당되는가 파악\r\n",
    "3. 트렌드 파악(시세, 추세)\r\n",
    "4. 상관관계 파악(인공지능, 머신러닝, 딥러닝)\r\n",
    "5. 분산정도 (얼마나 퍼져 있는가 , 중심값? ,유효값?)\r\n",
    "\r\n"
   ],
   "metadata": {}
  },
  {
   "cell_type": "markdown",
   "source": [
    "# 데이터 시각화 - 핵심차트 10\r\n",
    "## 차트의 용도와 목적에 맞는 사례를 중심으로"
   ],
   "metadata": {}
  },
  {
   "cell_type": "markdown",
   "source": [
    "## 비교를 위해 사용하는 차트\r\n",
    "1. column chart\r\n",
    "2. bar chart\r\n",
    "3. pareto chart  - 가장 중요한 부분 찾기(일종의 히스토그램)\r\n",
    "4. Dual axis chart"
   ],
   "metadata": {}
  },
  {
   "cell_type": "markdown",
   "source": [
    "## 전체중에 얼마에 해당되는가 파악\r\n",
    "1. pie chart"
   ],
   "metadata": {}
  },
  {
   "cell_type": "markdown",
   "source": [
    "## 트렌드 파악\r\n",
    "1. line chart(주로 시계열 분석 - 시간에 따른 추세)"
   ],
   "metadata": {}
  },
  {
   "cell_type": "markdown",
   "source": [
    "## 상관관계(연관성) 파악\r\n",
    "1. scatter chart - 분포를 보면서 패턴의 파악에 용이\r\n",
    "2. Bubble chart - bubble 하나하나의 크기를 알 수 있다 ex) BCG 차트\r\n",
    "3. Heat map - 색온도 표현, 다양한 데이터를 직관적으로 파악하기에 좋다 ,두개의 item간의 관계 파악 용이\r\n"
   ],
   "metadata": {}
  },
  {
   "cell_type": "markdown",
   "source": [
    "## 분산정도\r\n",
    "1. histogram - bin(하나의 bar)단위\r\n",
    "2. box plot -(minimum, maximum, first quartile(상위 25 %), third quartile(상위 75 %),median)\r\n",
    "3. geo chart(교통, 운수업에서 주로 사용)-> 국가별 코로나 확진자"
   ],
   "metadata": {}
  },
  {
   "cell_type": "markdown",
   "source": [],
   "metadata": {}
  }
 ],
 "metadata": {
  "orig_nbformat": 4,
  "language_info": {
   "name": "python"
  }
 },
 "nbformat": 4,
 "nbformat_minor": 2
}