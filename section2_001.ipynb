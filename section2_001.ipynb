{
 "cells": [
  {
   "cell_type": "code",
   "execution_count": 4,
   "metadata": {},
   "outputs": [
    {
     "data": {
      "text/plain": [
       "13"
      ]
     },
     "execution_count": 4,
     "metadata": {},
     "output_type": "execute_result"
    }
   ],
   "source": [
    "x = 3\n",
    "y = 10\n",
    "print(x + y)"
   ]
  },
  {
   "cell_type": "code",
   "execution_count": 6,
   "metadata": {},
   "outputs": [
    {
     "data": {
      "text/plain": [
       "'\\nhello world\\n'"
      ]
     },
     "execution_count": 6,
     "metadata": {},
     "output_type": "execute_result"
    }
   ],
   "source": [
    "#hello_world\n",
    "'''\n",
    "hello world\n",
    "'''\n"
   ]
  },
  {
   "cell_type": "code",
   "execution_count": 10,
   "metadata": {},
   "outputs": [
    {
     "name": "stdout",
     "output_type": "stream",
     "text": [
      "20.1\n",
      "jungsungwook\n",
      "<class 'int'>\n"
     ]
    }
   ],
   "source": [
    "a = 10  #int(정수)\n",
    "b = 10.1    #float(실수)\n",
    "c = 'hello world'   #str(문자열)\n",
    "d = -1\n",
    "e = 'jung'\n",
    "f = 'sungwook'\n",
    "g = 10 + 2j\n",
    "h = 0b1001  #int\n",
    "i = 0o1001  #int\n",
    "j = 0x1001  #int\n",
    "print(a + b)\n",
    "print(e + f)\n",
    "print(type(a))\n",
    "# print(dir(a)) class의 method들"
   ]
  },
  {
   "cell_type": "code",
   "execution_count": 15,
   "metadata": {},
   "outputs": [
    {
     "name": "stdout",
     "output_type": "stream",
     "text": [
      "<class 'str'>\n",
      "p\n",
      "paullab\n",
      "pulbCOLe\n",
      "OEC ballua\n",
      "pulbC\n",
      "nuJoHeeL OEC balluap\n",
      "n\n"
     ]
    }
   ],
   "source": [
    "s = 'paullab CEO LeeHoJun'\n",
    "print(type(s))\n",
    "print(s[0])\n",
    "print(s[0:7])\n",
    "print(s[0:15:2])\n",
    "print(s[10:0:-1])\n",
    "print(s[:10:2])\n",
    "print(s[::-1])\n",
    "print(s[-1])\n"
   ]
  },
  {
   "cell_type": "code",
   "execution_count": 23,
   "metadata": {},
   "outputs": [
    {
     "name": "stdout",
     "output_type": "stream",
     "text": [
      "<class 'str'>\n",
      "['__add__', '__class__', '__contains__', '__delattr__', '__dir__', '__doc__', '__eq__', '__format__', '__ge__', '__getattribute__', '__getitem__', '__getnewargs__', '__gt__', '__hash__', '__init__', '__init_subclass__', '__iter__', '__le__', '__len__', '__lt__', '__mod__', '__mul__', '__ne__', '__new__', '__reduce__', '__reduce_ex__', '__repr__', '__rmod__', '__rmul__', '__setattr__', '__sizeof__', '__str__', '__subclasshook__', 'capitalize', 'casefold', 'center', 'count', 'encode', 'endswith', 'expandtabs', 'find', 'format', 'format_map', 'index', 'isalnum', 'isalpha', 'isascii', 'isdecimal', 'isdigit', 'isidentifier', 'islower', 'isnumeric', 'isprintable', 'isspace', 'istitle', 'isupper', 'join', 'ljust', 'lower', 'lstrip', 'maketrans', 'partition', 'removeprefix', 'removesuffix', 'replace', 'rfind', 'rindex', 'rjust', 'rpartition', 'rsplit', 'rstrip', 'split', 'splitlines', 'startswith', 'strip', 'swapcase', 'title', 'translate', 'upper', 'zfill']\n",
      "PAULLAB CEO LEEHOJUN\n",
      "paullab ceo leehojun\n",
      "2\n",
      "hello world\n",
      "paullab!CEO!LeeHoJun\n",
      "제 이름은 이호준 입니다. 제 나이는 33 입니다.\n"
     ]
    }
   ],
   "source": [
    "s = 'paullab CEO LeeHoJun'\n",
    "print(type(s))\n",
    "print(dir(s))\n",
    "print(s.upper())\n",
    "print(s.lower())\n",
    "print(s.count('l'))\n",
    "ss = \"     hello world    \"\n",
    "print(ss.strip())\n",
    "a = s.split()\n",
    "print('!'.join(a))\n",
    "print('제 이름은 {} 입니다. 제 나이는 {} 입니다.'.format('이호준',33))\n"
   ]
  },
  {
   "cell_type": "code",
   "execution_count": 25,
   "metadata": {},
   "outputs": [
    {
     "name": "stdout",
     "output_type": "stream",
     "text": [
      "2019/9/24 2019 9 24\n"
     ]
    }
   ],
   "source": [
    "a = 2019\n",
    "b = 9\n",
    "c = 24\n",
    "# 2019/9/24\n",
    "print(a,b,c,sep = '/',end = ' ')\n",
    "print(a,b,c)"
   ]
  },
  {
   "cell_type": "code",
   "execution_count": 27,
   "metadata": {},
   "outputs": [
    {
     "name": "stdout",
     "output_type": "stream",
     "text": [
      "1010\n"
     ]
    }
   ],
   "source": [
    "#형변환\n",
    "a = 10\n",
    "b = '10'\n",
    "print(str(a)+b)"
   ]
  },
  {
   "cell_type": "code",
   "execution_count": 29,
   "metadata": {},
   "outputs": [
    {
     "name": "stdout",
     "output_type": "stream",
     "text": [
      "<class 'bool'>\n"
     ]
    }
   ],
   "source": [
    "#bool형\n",
    "a = True\n",
    "b = False\n",
    "print(type(a))"
   ]
  },
  {
   "cell_type": "code",
   "execution_count": 31,
   "metadata": {},
   "outputs": [
    {
     "name": "stdout",
     "output_type": "stream",
     "text": [
      "True\n",
      "False\n",
      "False\n",
      "True\n",
      "True\n",
      "False\n"
     ]
    }
   ],
   "source": [
    "print(bool(' '))    #안에 공백이 있음 True\n",
    "print(bool('')) #안에 아무것도 없음 False\n",
    "print(bool(0))  #0을 제외한 나머지 숫자들은 True\n",
    "print(bool(1))\n",
    "print(bool(-1))\n",
    "print(bool(None))   #아무것도 없음"
   ]
  },
  {
   "cell_type": "code",
   "execution_count": 33,
   "metadata": {},
   "outputs": [
    {
     "name": "stdout",
     "output_type": "stream",
     "text": [
      "13\n",
      "-7\n",
      "3.3333333333333335\n",
      "3\n",
      "30\n",
      "1000\n",
      "1\n"
     ]
    }
   ],
   "source": [
    "a = 3\n",
    "b = 10\n",
    "print(a + b)\n",
    "print(a - b)\n",
    "print(b / a)    #반환형 float\n",
    "print(b // a)   #반환형 int\n",
    "print(b * a)    \n",
    "print(b ** a)   #제곱\n",
    "print(b % a)    #나머지 b는 a의 배수이다\n"
   ]
  },
  {
   "cell_type": "code",
   "execution_count": 36,
   "metadata": {},
   "outputs": [
    {
     "name": "stdout",
     "output_type": "stream",
     "text": [
      "True\n",
      "True\n",
      "False\n",
      "False\n",
      "False\n",
      "True\n"
     ]
    }
   ],
   "source": [
    "#비교연산\n",
    "a = 10\n",
    "b = 3\n",
    "print(a >= b)      #반환형 bool\n",
    "print(a > b)\n",
    "print(a < b)\n",
    "print(a <= b)\n",
    "print(a == b)\n",
    "print(a != b)"
   ]
  },
  {
   "cell_type": "code",
   "execution_count": 38,
   "metadata": {},
   "outputs": [
    {
     "name": "stdout",
     "output_type": "stream",
     "text": [
      "False\n",
      "True\n",
      "True\n"
     ]
    }
   ],
   "source": [
    "#논리 연산\n",
    "a = True    #1\n",
    "b = False   #0\n",
    "print(a and b)  #*\n",
    "print(a or b)   #+\n",
    "print(not b)    #반대"
   ]
  },
  {
   "cell_type": "code",
   "execution_count": 42,
   "metadata": {},
   "outputs": [
    {
     "name": "stdout",
     "output_type": "stream",
     "text": [
      "30\n"
     ]
    }
   ],
   "source": [
    "#할당연산\n",
    "\n",
    "a = 10\n",
    "a = a+10\n",
    "a += 10\n",
    "print(a)"
   ]
  },
  {
   "cell_type": "code",
   "execution_count": 49,
   "metadata": {},
   "outputs": [
    {
     "name": "stdout",
     "output_type": "stream",
     "text": [
      "8\n",
      "101000\n",
      "001110\n"
     ]
    }
   ],
   "source": [
    "#bit 연산\n",
    "a = 40\n",
    "b = 14\n",
    "print(a & b)\n",
    "# & == and,| == or,~ == not\n",
    "print(bin(a)[2:].zfill(6))\n",
    "print(bin(b)[2:].zfill(6))\n",
    "# 101000\n",
    "# 001110\n",
    "# ======== and 연산\n",
    "# 001000"
   ]
  },
  {
   "cell_type": "code",
   "execution_count": 52,
   "metadata": {},
   "outputs": [
    {
     "name": "stdout",
     "output_type": "stream",
     "text": [
      "8\n"
     ]
    }
   ],
   "source": [
    "#함수\n",
    "def f(x,y):\n",
    "    z = x+y\n",
    "    return z\n",
    "print(f(3,5))"
   ]
  },
  {
   "cell_type": "code",
   "execution_count": 53,
   "metadata": {},
   "outputs": [
    {
     "name": "stdout",
     "output_type": "stream",
     "text": [
      "4\n",
      "1\n",
      "2\n",
      "3\n",
      "1\n",
      "2\n",
      "3\n",
      "None\n"
     ]
    }
   ],
   "source": [
    "#실행순서 주의\n",
    "def ff():\n",
    "    print('1')\n",
    "    print('2')\n",
    "    print('3')\n",
    "print(4)\n",
    "ff()\n",
    "print(ff()) #함수에 return None이 생략되어있음"
   ]
  },
  {
   "cell_type": "code",
   "execution_count": 56,
   "metadata": {},
   "outputs": [
    {
     "name": "stdout",
     "output_type": "stream",
     "text": [
      "314.0\n"
     ]
    }
   ],
   "source": [
    "# 원의 넓이를 구하는 함수\n",
    "def circle(r):\n",
    "    width  = r*r*3.14\n",
    "    return width\n",
    "print(circle(10))"
   ]
  },
  {
   "cell_type": "code",
   "execution_count": 58,
   "metadata": {},
   "outputs": [
    {
     "name": "stdout",
     "output_type": "stream",
     "text": [
      "20\n"
     ]
    }
   ],
   "source": [
    "#함수의 scope\n",
    "a = 10\n",
    "def aplus():\n",
    "    global a    #전역변수 선언 다른함수에 영향을 끼치므로 주의\n",
    "    a+=10\n",
    "    return a\n",
    "print(aplus())"
   ]
  },
  {
   "cell_type": "code",
   "execution_count": 60,
   "metadata": {},
   "outputs": [
    {
     "name": "stdout",
     "output_type": "stream",
     "text": [
      "[100, 200, 300, 400]\n",
      "<class 'list'>\n",
      "200\n",
      "[100, 1000, 300, 400]\n"
     ]
    }
   ],
   "source": [
    "#리스트, 튜플, 딕셔너리, 셋\n",
    "l = [100,200,300,400]\n",
    "print(l)\n",
    "print(type(l))\n",
    "#print(dir(l))\n",
    "#변경이 가능한 자료형\n",
    "#순서가 있는 자료형\n",
    "print(l[1])\n",
    "l[1] = 1000 #리스트의 요소의 값 변경\n",
    "print(l)"
   ]
  },
  {
   "cell_type": "code",
   "execution_count": 64,
   "metadata": {},
   "outputs": [
    {
     "name": "stdout",
     "output_type": "stream",
     "text": [
      "['__add__', '__class__', '__class_getitem__', '__contains__', '__delattr__', '__delitem__', '__dir__', '__doc__', '__eq__', '__format__', '__ge__', '__getattribute__', '__getitem__', '__gt__', '__hash__', '__iadd__', '__imul__', '__init__', '__init_subclass__', '__iter__', '__le__', '__len__', '__lt__', '__mul__', '__ne__', '__new__', '__reduce__', '__reduce_ex__', '__repr__', '__reversed__', '__rmul__', '__setattr__', '__setitem__', '__sizeof__', '__str__', '__subclasshook__', 'append', 'clear', 'copy', 'count', 'extend', 'index', 'insert', 'pop', 'remove', 'reverse', 'sort']\n",
      "[100, 200, 300, 400]\n",
      "1\n",
      "[100, 200, 300, 400, 100, 200, 300]\n",
      "3\n",
      "[100, 200, 300, 1000, 400, 100, 200, 300]\n",
      "[100, 200, 300, 1000, 400, 100, 200]\n",
      "[100, 200, 1000, 400, 100, 200]\n",
      "[100, 100, 200, 200, 400, 1000]\n",
      "[1000, 400, 200, 200, 100, 100]\n"
     ]
    }
   ],
   "source": [
    "#class 리스트의 method들\n",
    "l = [100,200,300,400]\n",
    "print(dir(l))\n",
    "print(l)\n",
    "#l.clear() 비우기\n",
    "#l.copy()\n",
    "print(l.count(300)) #300의 개수\n",
    "l.extend([100,200,300]) #여러값 추가\n",
    "print(l)\n",
    "print(l.index(400))     #400의 인덱스\n",
    "l.insert(3,1000)    #인덱스 3의 자리에 1000 삽입\n",
    "print(l)\n",
    "l.pop() #마지막 자리 의 값을 가져오고 리스트에서 제거\n",
    "print(l)\n",
    "l.remove(300)   #처음 만나는 요소의 값 제거\n",
    "print(l)\n",
    "l.sort()\n",
    "print(l)\n",
    "#retun 값만 변경하는 function, 원본 변경 x\n",
    "#print(sorted(l))  #오름차순 정렬\n",
    "#print(list(reversed(l)))   #내림차순 정렬\n"
   ]
  },
  {
   "cell_type": "code",
   "execution_count": 69,
   "metadata": {},
   "outputs": [
    {
     "name": "stdout",
     "output_type": "stream",
     "text": [
      "(100, 200, 300)\n",
      "<class 'tuple'>\n",
      "['__add__', '__class__', '__class_getitem__', '__contains__', '__delattr__', '__dir__', '__doc__', '__eq__', '__format__', '__ge__', '__getattribute__', '__getitem__', '__getnewargs__', '__gt__', '__hash__', '__init__', '__init_subclass__', '__iter__', '__le__', '__len__', '__lt__', '__mul__', '__ne__', '__new__', '__reduce__', '__reduce_ex__', '__repr__', '__rmul__', '__setattr__', '__sizeof__', '__str__', '__subclasshook__', 'count', 'index']\n",
      "([1000, 20], 200, 300)\n"
     ]
    }
   ],
   "source": [
    "l = [10,20]\n",
    "tt = (l,200,300)\n",
    "t = (100,200,300)\n",
    "\n",
    "print(t)\n",
    "print(type(t))\n",
    "print(dir(t))\n",
    "\n",
    "#순서가 있고\n",
    "#변경이 불가능한 자료형\n",
    "\n",
    "#t[0] = 1000 error -> 값 변경 불가능\n",
    "l[0] = 1_000\n",
    "print(tt)    #참조된 값의 변경은 가능"
   ]
  },
  {
   "cell_type": "code",
   "execution_count": 72,
   "metadata": {},
   "outputs": [
    {
     "name": "stdout",
     "output_type": "stream",
     "text": [
      "{200, 100, 300}\n",
      "<class 'set'>\n",
      "['__and__', '__class__', '__class_getitem__', '__contains__', '__delattr__', '__dir__', '__doc__', '__eq__', '__format__', '__ge__', '__getattribute__', '__gt__', '__hash__', '__iand__', '__init__', '__init_subclass__', '__ior__', '__isub__', '__iter__', '__ixor__', '__le__', '__len__', '__lt__', '__ne__', '__new__', '__or__', '__rand__', '__reduce__', '__reduce_ex__', '__repr__', '__ror__', '__rsub__', '__rxor__', '__setattr__', '__sizeof__', '__str__', '__sub__', '__subclasshook__', '__xor__', 'add', 'clear', 'copy', 'difference', 'difference_update', 'discard', 'intersection', 'intersection_update', 'isdisjoint', 'issubset', 'issuperset', 'pop', 'remove', 'symmetric_difference', 'symmetric_difference_update', 'union', 'update']\n",
      "{200, 100, 500, 300}\n",
      "{'f', 'g', 'c', 'b', 'd', 'e', 'a'}\n",
      "{1, 2, 3, 100, 500, 200, 300}\n"
     ]
    }
   ],
   "source": [
    "s = {100,200,300,300,300}\n",
    "ss = {1,2,3}\n",
    "print(s)\n",
    "print(type(s))\n",
    "print(dir(s))\n",
    "\n",
    "# 순서가 없고\n",
    "#값의 중복을 허락하지 않음\n",
    "s.add(500)\n",
    "print(s)\n",
    "print(set('aaabbcccdddefggg'))  #문자열의 중복도 제거 가능\n",
    "print(s.union(ss))  #합집합\n"
   ]
  },
  {
   "cell_type": "code",
   "execution_count": 74,
   "metadata": {},
   "outputs": [
    {
     "name": "stdout",
     "output_type": "stream",
     "text": [
      "10\n",
      "['__class__', '__class_getitem__', '__contains__', '__delattr__', '__delitem__', '__dir__', '__doc__', '__eq__', '__format__', '__ge__', '__getattribute__', '__getitem__', '__gt__', '__hash__', '__init__', '__init_subclass__', '__ior__', '__iter__', '__le__', '__len__', '__lt__', '__ne__', '__new__', '__or__', '__reduce__', '__reduce_ex__', '__repr__', '__reversed__', '__ror__', '__setattr__', '__setitem__', '__sizeof__', '__str__', '__subclasshook__', 'clear', 'copy', 'fromkeys', 'get', 'items', 'keys', 'pop', 'popitem', 'setdefault', 'update', 'values']\n",
      "dict_values([10, 20])\n",
      "dict_keys(['one', 'two'])\n",
      "dict_items([('one', 10), ('two', 20)])\n",
      "10\n"
     ]
    }
   ],
   "source": [
    "#d = {key:value}\n",
    "d = {'one':10,'two':20}\n",
    "#순서가 없고\n",
    "#키의 중복을 허락하지 않음\n",
    "print(d['one'])\n",
    "print(dir(d))\n",
    "print(d.values())   #value\n",
    "print(d.keys()) #key\n",
    "print(d.items())    #key,value 쌍\n",
    "l = list(d.items())\n",
    "print(l[0][1])"
   ]
  },
  {
   "cell_type": "code",
   "execution_count": 75,
   "metadata": {},
   "outputs": [
    {
     "name": "stdout",
     "output_type": "stream",
     "text": [
      "{'banana': 5000, 'orange': 2000}\n",
      "{'banana': 5000, 'orange': 100000}\n"
     ]
    }
   ],
   "source": [
    "jeju = {'banana':5000,'orange':2000}\n",
    "seoul = jeju.copy()\n",
    "jeju['orange'] = 100_000\n",
    "print(seoul)\n",
    "print(jeju)\n",
    "#얕은복사\n"
   ]
  }
 ],
 "metadata": {
  "interpreter": {
   "hash": "6b3c0d2d5f4f7f96d5c0754321f906a01bf9508d1dc7f11f2204ee44bbb7c13c"
  },
  "kernelspec": {
   "display_name": "Python 3 (ipykernel)",
   "language": "python",
   "name": "python3"
  },
  "language_info": {
   "codemirror_mode": {
    "name": "ipython",
    "version": 3
   },
   "file_extension": ".py",
   "mimetype": "text/x-python",
   "name": "python",
   "nbconvert_exporter": "python",
   "pygments_lexer": "ipython3",
   "version": "3.9.6"
  }
 },
 "nbformat": 4,
 "nbformat_minor": 4
}
